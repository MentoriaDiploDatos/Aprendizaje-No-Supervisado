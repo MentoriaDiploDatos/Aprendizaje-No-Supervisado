{
 "cells": [
  {
   "cell_type": "markdown",
   "id": "44f66ff3-ab4f-4296-abe2-af5a46647466",
   "metadata": {
    "tags": []
   },
   "source": [
    "# Mentoría Ciencia de datos aplicada a la predicción de licencias médicas y comportamiento de los colaboradores\n",
    "\n",
    "# Trabajo Práctico 3: Aprendizaje Supervisado y No supervisado\n",
    "\n",
    "Trabajar con el dataset generado en el TP2, previamente curado, y resolver las siguientes consignas:\n",
    "\n",
    "# Series Temporales\n",
    "\n",
    "## Aprendizaje No Supervisado\n",
    "\n",
    "1) A partir de los grupos y subgrupos de diagnósticos, utilizar la técnica Time Series KMeans, para buscar clusters temporales. Probar las siguientes combinaciones:\n",
    "\n",
    "    a) Cantidad de licencias aprobadas mensualmente cada año, por cada subgrupo (primer nivel) del CIE.10. \n",
    "    \n",
    "    b) Cantidad de licencias aprobadas semanalmente, por cada grupo del CIE.10. \n",
    "    \n",
    "    c) Repetir a y b quitando los diagnósticos Covid. \n",
    "    \n",
    "    d) Repetir a y b agregando una variable categórica extra. \n",
    "    \n",
    "    Evaluar en cada caso los clusters obtenidos observando correlación, inertia y silluete score. \n",
    " \n",
    "## Aprendizaje Supervisado\n",
    "\n",
    "2) Elegir un grupo de cluster, y descomponer la serie temporal promedio en tendencia, estacionalidad y ruido.\n",
    "\n",
    "3) Dividir en train y test y realizar la predicción de la serie temporal, aplicando los siguientes modelos:\n",
    "\n",
    "    a) Exponential smothing - Holt Winter\n",
    "    d\n",
    "    b) Arima o Sarima el que corresponda.\n",
    "    \n",
    "    c) Evaluar ambos modelos utilizando mean square error. \n",
    "\n",
    " - Opcional:\n",
    "\n",
    "4) Elegir una variable exógena y predecir con Sarimax, por ejemplo licencias con diagnóstico de covid utilizando alguna base externa que contenga los casos reportados de Covid a nivel nacional. \n",
    "\n",
    "# Aprendizaje Supervisado – Clasificación\n",
    "\n",
    "6) Utilizando la columna categórica decisión medica, entrenar un modelo que permita predecir cuando una decisión médica será aprobada o cuando será rechazada. Utilizar un modelo de bosting, regresión logística "
   ]
  }
 ],
 "metadata": {
  "kernelspec": {
   "display_name": "Python 3 (ipykernel)",
   "language": "python",
   "name": "python3"
  },
  "language_info": {
   "codemirror_mode": {
    "name": "ipython",
    "version": 3
   },
   "file_extension": ".py",
   "mimetype": "text/x-python",
   "name": "python",
   "nbconvert_exporter": "python",
   "pygments_lexer": "ipython3",
   "version": "3.9.12"
  }
 },
 "nbformat": 4,
 "nbformat_minor": 5
}
